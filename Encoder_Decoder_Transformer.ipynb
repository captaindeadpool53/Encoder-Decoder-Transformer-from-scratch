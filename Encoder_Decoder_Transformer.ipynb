{
  "cells": [
    {
      "cell_type": "markdown",
      "metadata": {
        "id": "view-in-github",
        "colab_type": "text"
      },
      "source": [
        "<a href=\"https://colab.research.google.com/github/captaindeadpool53/Encoder-Decoder-Transformer-from-scratch/blob/main/Encoder_Decoder_Transformer.ipynb\" target=\"_parent\"><img src=\"https://colab.research.google.com/assets/colab-badge.svg\" alt=\"Open In Colab\"/></a>"
      ]
    },
    {
      "cell_type": "code",
      "execution_count": 1,
      "metadata": {
        "colab": {
          "base_uri": "https://localhost:8080/",
          "height": 35
        },
        "id": "OfM3wFis8xIx",
        "outputId": "8e4294c1-5783-4759-9f03-8e127ce6a19f"
      },
      "outputs": [
        {
          "output_type": "execute_result",
          "data": {
            "text/plain": [
              "'cuda'"
            ],
            "application/vnd.google.colaboratory.intrinsic+json": {
              "type": "string"
            }
          },
          "metadata": {},
          "execution_count": 1
        }
      ],
      "source": [
        "import torch\n",
        "import torch.nn as nn\n",
        "from torch.nn import functional as F\n",
        "\n",
        "device = 'cuda' if torch.cuda.is_available() else 'cpu'\n",
        "device"
      ]
    },
    {
      "cell_type": "code",
      "execution_count": 2,
      "metadata": {
        "collapsed": true,
        "id": "MJWs0N8Bx2zT",
        "colab": {
          "base_uri": "https://localhost:8080/"
        },
        "outputId": "64267bfd-032d-48ad-f1d0-d3f32d88f919"
      },
      "outputs": [
        {
          "output_type": "stream",
          "name": "stdout",
          "text": []
        }
      ],
      "source": [
        "!pip install --upgrade datasets fsspec\n"
      ]
    },
    {
      "cell_type": "code",
      "execution_count": 3,
      "metadata": {
        "colab": {
          "base_uri": "https://localhost:8080/",
          "height": 217,
          "referenced_widgets": [
            "e5ad5b9fbb2f48d2abc9d21877ff8d92",
            "cc5ac288117c4e4fad8fb9c846661436",
            "2d853efcea8e4afc9c18cef2cd2978f0",
            "9f8327450a5e4b3481a72c3e773e8999",
            "1fe3fee2f54948b0bbfde054df3f6fbb",
            "8731c4ef1cb746b0b3e802d7722f37d9",
            "b2836a1cf81643eabf4f6268f24043c3",
            "e7637abcd3cf44a18085e0567944141c",
            "df08003746a5406395cd034169357b51",
            "43a382ebe5d34d879a2d31961749ae6c",
            "84709165cbed491fb1228d300669af62",
            "2a6adab714974c2d950f4830ca2a9123",
            "1983de608b444ef99aa5b6b35118d00d",
            "2de4b01d7eea49ffa279883a363c02d3",
            "18eaf5679c1e4f0aacfd0f38691f9ad3",
            "be2c1a515dd64c0389d3652adeb9b3d1",
            "e94f712d868248629be42c2de6ab9990",
            "8cc849d50f24404a97696ae97a82fd9a",
            "4adea025cac24b898c403c47ca1570a0",
            "afff9848c6d8470aaf04300e0b9f7502",
            "f19217a9eb68456c8a125653fcc1d215",
            "556b82be2db0449e85f914776ea654cb",
            "34d1a5c33e3f4f9493ae19f42556aa15",
            "c61ce2ae7f8346d89dd3df39b80263a9",
            "37996bff30514004b27126ae58907746",
            "5a3366fa82a74be7b2066abe876c8b94",
            "4d9bb48627f844b4a25f3e907a75a8a8",
            "114577d5111b4bac942489f826e049d9",
            "e6c06076909946cbae011c451c7ac19b",
            "39daa21a5a05455a89d76432a7775c3a",
            "887de2b9246b42dfa8a1f7765b28df7a",
            "7694f14119d54a7898bae8ac5ef2b00d",
            "309a302dcc9d448487547eb04d21b056"
          ]
        },
        "id": "4hH5Lequ5WKA",
        "collapsed": true,
        "outputId": "6c088509-38fe-4210-e78f-c6ec3dedc150"
      },
      "outputs": [
        {
          "output_type": "stream",
          "name": "stderr",
          "text": [
          ]
        }
      ],
      "source": [
        "from datasets import load_dataset\n",
        "\n",
        "books = load_dataset(\"opus_books\", \"en-fr\")"
      ]
    },
    {
      "cell_type": "code",
      "execution_count": 4,
      "metadata": {
        "colab": {
          "base_uri": "https://localhost:8080/"
        },
        "id": "0P3G_UaSyEWW",
        "outputId": "4b6ba8e4-6da4-4b95-c8f5-51c2c2bb53b9"
      },
      "outputs": [
        {
          "output_type": "execute_result",
          "data": {
            "text/plain": [
              "DatasetDict({\n",
              "    train: Dataset({\n",
              "        features: ['id', 'translation'],\n",
              "        num_rows: 101668\n",
              "    })\n",
              "    test: Dataset({\n",
              "        features: ['id', 'translation'],\n",
              "        num_rows: 25417\n",
              "    })\n",
              "})"
            ]
          },
          "metadata": {},
          "execution_count": 4
        }
      ],
      "source": [
        "# Dataset structure\n",
        "books = books[\"train\"].train_test_split(test_size=0.2)\n",
        "books"
      ]
    },
    {
      "cell_type": "code",
      "execution_count": 5,
      "metadata": {
        "colab": {
          "base_uri": "https://localhost:8080/"
        },
        "id": "uxQeE1YBySr5",
        "outputId": "0407c65c-3430-4ba6-a35b-1411c0ab0c35"
      },
      "outputs": [
        {
          "output_type": "execute_result",
          "data": {
            "text/plain": [
              "{'id': '36635',\n",
              " 'translation': {'en': 'All is over between us.',\n",
              "  'fr': 'Tout est donc fini entre nous.'}}"
            ]
          },
          "metadata": {},
          "execution_count": 5
        }
      ],
      "source": [
        "# Example structure\n",
        "books[\"train\"][2]"
      ]
    },
    {
      "cell_type": "code",
      "execution_count": 6,
      "metadata": {
        "id": "UlKc1A9x56GC",
        "collapsed": true,
        "colab": {
          "base_uri": "https://localhost:8080/",
          "height": 177,
          "referenced_widgets": [
            "dd68a62f94014ba7a667b7a38f7ff582",
            "f4753b70a20a4d52a714752d2816d9a3",
            "a273fa1766b84c9b89d2460abaffb0d4",
            "d9719dfdbce3499b95b08d4b81184f1b",
            "20c6d2ec12674a1a8c3c5a5d8376a978",
            "59363d9898524ddea288ef15fecd62c5",
            "e09bb78a7edb4416901029f5d72accce",
            "f9ea3beac270402884c786a87ec7a2b5",
            "806e11b57b2d4e649a815df6dcda96f8",
            "0a10be23483b4c9f822cea28d5ef2f43",
            "732783981bda40b2852ad90b4ed5fa50",
            "e4ced3dcec404879b80734f89a6b07a5",
            "8a2f255e0f414bcb9c8b9128280ebfc5",
            "d3c3b5e97d4f4dab8d1e3d96f2ceb0ac",
            "90b68f3a20a543e480658245d38627e7",
            "d500024e2a7f4ceaa09c0ed085b736d3",
            "80dd3160095e4ceba0440122d0cd9be6",
            "196b13d7d6c943e0961d55acea44391d",
            "c713b0784e02481c819496ef0e4c13c4",
            "b93b5f88ebbd4798873e4dad3932baab",
            "bd820766ee6e409dab8219a3642aee86",
            "6e73031d54ed46458733dc5dfbdb85fc",
            "3decad66dfbc41cc95860c9c7bcbbb4f",
            "e60e654c574346b5857c0836881645b0",
            "535f5b1763b34e06b7c1972511b581ad",
            "cd5e4b16259f4ca09f7f34218e24aa99",
            "4167231d64484344a84628ba34b544dd",
            "6b88f291c340402299d2efaa2ab0bde3",
            "22c3e2fb117e49589127b85f8e438875",
            "e2867a5a129f4ce69557793afe03c3eb",
            "6e72f2fa9d52450eab4f81da9c1edc5c",
            "c46b8a82776e41219f0bf3ee96257c62",
            "6a45be3f61cb40eb98525dc5e5e4f511",
            "8327fd1dabe647c8b63800edc779529b",
            "586d15993bf24a319d41cb112e176a30",
            "c099f00fa9144a77867f92fb6d8f1dfd",
            "b691b82dcb4e4c31afa43fcffdecbd22",
            "52e2fb92b315489bb0705e62f2db836a",
            "47aed798ae004c67bb76a6dbdf04d830",
            "a8405d33da70427a9e0fbe9e3dfc3f60",
            "86341885fb2449dcad05f9f5881f5231",
            "e7a44f4cd9584b6290262017cb44cdce",
            "bc112411892742ad93ccb37f1b92333d",
            "12468c1eb9ad401a9645f97e057c62f3",
            "4b4224a14bf04ed7bf8e4429d5e7bcd1",
            "65ebb698b5d045ebae7024752da62680",
            "94a9257047434512bdf4e7adf9494230",
            "55ab7733c98f44d98391b5d452ea7dd1",
            "94b4a5be2cd34d10832df48159525a06",
            "043e0a7eeb114597a93ad3b9a8864aaa",
            "444c533a588d437e8f1dbb4a8295bc14",
            "cdf34170381f4171a164db8501abe292",
            "075fb743e8164f629ec4d4e35e992766",
            "638c1cfedabc4e4e8540b96dbfe6dc36",
            "a41d67c2af254833af6e013e83baf5e0"
          ]
        },
        "outputId": "8f21be20-4b9d-4639-a0e3-abef9204dbbb"
      },
      "outputs": [
      ],
      "source": [
        "# BPE Tokenization used by GPT2 from HuggingFace\n",
        "from transformers import GPT2Tokenizer\n",
        "\n",
        "tokenizer = GPT2Tokenizer.from_pretrained(\"gpt2\")"
      ]
    },
    {
      "cell_type": "code",
      "execution_count": 7,
      "metadata": {
        "colab": {
          "base_uri": "https://localhost:8080/"
        },
        "id": "nvZG27WjAprl",
        "outputId": "f134c679-31da-44f1-dc4f-201c32d37b7f"
      },
      "outputs": [
        {
          "output_type": "execute_result",
          "data": {
            "text/plain": [
              "50258"
            ]
          },
          "metadata": {},
          "execution_count": 7
        }
      ],
      "source": [
        "# tokenizer.pad_token = tokenizer.eos_token\n",
        "tokenizer.add_special_tokens({'pad_token': '<|pad|>'})\n",
        "tokenizer.pad_token = '<|pad|>'\n",
        "tokenizer.bos_token = '<|bos|>'\n",
        "len(tokenizer) #vocab length"
      ]
    },
    {
      "cell_type": "code",
      "execution_count": 8,
      "metadata": {
        "colab": {
          "base_uri": "https://localhost:8080/",
          "height": 35
        },
        "id": "wLXL4EmmBc5V",
        "outputId": "79aa20ea-3161-4f4f-c2d3-837c240f9aa9"
      },
      "outputs": [
        {
          "output_type": "execute_result",
          "data": {
            "text/plain": [
              "'<|pad|>'"
            ],
            "application/vnd.google.colaboratory.intrinsic+json": {
              "type": "string"
            }
          },
          "metadata": {},
          "execution_count": 8
        }
      ],
      "source": [
        "tokenizer.pad_token"
      ]
    },
    {
      "cell_type": "code",
      "source": [
        "lengths = [len(tokenizer(example['translation']['fr']).input_ids) for example in books[\"train\"]]"
      ],
      "metadata": {
        "id": "iVGTBka7EgOn"
      },
      "execution_count": 25,
      "outputs": []
    },
    {
      "cell_type": "code",
      "source": [
        "# prompt: generate a frequency distribution curve for lengths\n",
        "\n",
        "import matplotlib.pyplot as plt\n",
        "\n",
        "plt.hist(lengths, bins=50, density=True, alpha=0.75)\n",
        "plt.xlabel('Length')\n",
        "plt.ylabel('Frequency')\n",
        "plt.title('Frequency Distribution of Lengths')\n",
        "plt.grid(True)\n",
        "plt.show()"
      ],
      "metadata": {
        "colab": {
          "base_uri": "https://localhost:8080/",
          "height": 472
        },
        "id": "CoYqBAPaCjAZ",
        "outputId": "ef1e1dff-b785-44bc-e79e-c61a6918dc49"
      },
      "execution_count": 30,
      "outputs": [
        {
          "output_type": "display_data",
          "data": {
            "text/plain": [
              "<Figure size 640x480 with 1 Axes>"
            ],
            "image/png": "[encoded data removed]"
          },
          "metadata": {}
        }
      ]
    },
    {
      "cell_type": "markdown",
      "source": [
        "Most token lengths are less than 200. So that should be a good block size"
      ],
      "metadata": {
        "id": "YeLV7wRCFcDU"
      }
    },
    {
      "cell_type": "code",
      "execution_count": 31,
      "metadata": {
        "id": "USmQWu4j-TAY"
      },
      "outputs": [],
      "source": [
        "# Constants and hyperparameters\n",
        "\n",
        "DROPOUT = 0.001\n",
        "\n",
        "BLOCK_SIZE = 200 # Maximum number of tokens passed / Context length\n",
        "BATCH_SIZE = 32\n",
        "VOCAB_SIZE = len(tokenizer)\n",
        "EMBEDDING_DIMS = 120\n",
        "NUMBER_OF_BLOCKS = 6\n",
        "NUMBER_OF_HEADS = 6\n",
        "EPOCHS = 300\n",
        "LEARNING_RATE = 3e-4\n",
        "\n",
        "TRAINING_DATA = True\n",
        "TEST_DATA = False"
      ]
    },
    {
      "cell_type": "code",
      "source": [
        "# Custom method to tokenize and encapsulate the settings inside.\n",
        "def tokenize(input, BLOCK_SIZE):\n",
        "    return tokenizer(input,\n",
        "                    truncation=True,\n",
        "                    max_length=BLOCK_SIZE,\n",
        "                    padding=\"longest\",\n",
        "                    add_special_tokens=True,\n",
        "                    return_tensors=\"pt\")"
      ],
      "metadata": {
        "id": "ui_IyyBwifrD"
      },
      "execution_count": 9,
      "outputs": []
    },
    {
      "cell_type": "code",
      "execution_count": 21,
      "metadata": {
        "colab": {
          "base_uri": "https://localhost:8080/"
        },
        "id": "qWPZKI2vg265",
        "outputId": "32300ed8-91fc-4e02-e0e3-0faae09ff990"
      },
      "outputs": [
        {
          "output_type": "stream",
          "name": "stdout",
          "text": [
            "tensor([15496,   995,    11,   703,   389,   345,    30, 50256])\n",
            "['Hello', 'Ġworld', ',', 'Ġhow', 'Ġare', 'Ġyou', '?', '<|endoftext|>']\n",
            "Hello world, how are you?<|endoftext|>\n",
            "Hello world, how are you?\n",
            "tensor([[1, 1, 1, 1, 1, 1, 1, 1]])\n"
          ]
        }
      ],
      "source": [
        "tokenized = tokenize(\"Hello world, how are you?\" + tokenizer.eos_token,BATCH_SIZE)\n",
        "ids = tokenized.input_ids\n",
        "ids = ids[0] #Batch 1\n",
        "print(ids)\n",
        "\n",
        "print(tokenizer.convert_ids_to_tokens(ids))\n",
        "print(tokenizer.decode(ids))\n",
        "print(tokenizer.decode(ids, skip_special_tokens=True))\n",
        "print(tokenized.attention_mask)"
      ]
    },
    {
      "cell_type": "code",
      "execution_count": 22,
      "metadata": {
        "colab": {
          "base_uri": "https://localhost:8080/"
        },
        "id": "ZNIBbdRX7HLY",
        "outputId": "c3103913-e976-4338-b997-bc53a69d75f3"
      },
      "outputs": [
        {
          "output_type": "execute_result",
          "data": {
            "text/plain": [
              "<torch._C.Generator at 0x7d496c3619d0>"
            ]
          },
          "metadata": {},
          "execution_count": 22
        }
      ],
      "source": [
        "torch.manual_seed(1337)"
      ]
    },
    {
      "cell_type": "code",
      "execution_count": 23,
      "metadata": {
        "id": "3UMh3d4O7DT_"
      },
      "outputs": [],
      "source": [
        "# Dataset generation\n",
        "train_data = books[\"train\"]\n",
        "test_data = books[\"test\"]\n",
        "\n",
        "# returns token batches, and attention mask batch\n",
        "def batch_generator(is_training_data, BLOCK_SIZE, BATCH_SIZE):\n",
        "    dataset = train_data if is_training_data else test_data\n",
        "    starting_indices = torch.randint(len(dataset)-1, (BATCH_SIZE,))\n",
        "    x_batch = []\n",
        "    y_batch = []\n",
        "    x_attention_masks = []\n",
        "    y_attention_masks = []\n",
        "    for i in starting_indices:\n",
        "\n",
        "        x_batch.append(dataset[int(i)]['translation']['en'] + tokenizer.eos_token)\n",
        "        y_batch.append(dataset[int(i)]['translation']['fr'] + tokenizer.eos_token)\n",
        "\n",
        "    x_tokenized = tokenize(x_batch,BLOCK_SIZE)\n",
        "    y_tokenized = tokenize(y_batch,BLOCK_SIZE)\n",
        "\n",
        "    x_batch = x_tokenized.input_ids\n",
        "    y_batch = y_tokenized.input_ids\n",
        "\n",
        "    x_attention_masks = x_tokenized.attention_mask\n",
        "    y_attention_masks = y_tokenized.attention_mask\n",
        "\n",
        "    return x_batch.to(device), y_batch.to(device), x_attention_masks.to(device), y_attention_masks.to(device)\n"
      ]
    },
    {
      "cell_type": "code",
      "execution_count": null,
      "metadata": {
        "id": "I6SH-yxuFsEY"
      },
      "outputs": [],
      "source": [
        "x_batch, y_batch, x_attention_masks, y_attention_masks = batch_generator(True, BLOCK_SIZE, BATCH_SIZE)"
      ]
    },
    {
      "cell_type": "code",
      "execution_count": null,
      "metadata": {
        "colab": {
          "base_uri": "https://localhost:8080/"
        },
        "id": "LBOKQtC8Fues",
        "outputId": "8637e849-6b57-4749-9660-7e62533047f5"
      },
      "outputs": [
        {
          "output_type": "stream",
          "name": "stdout",
          "text": [
            "tensor([[ 1537,  6159,  5395,  ..., 50257, 50257, 50257],\n",
            "        [  464,  2580,  2100,  ..., 50257, 50257, 50257],\n",
            "        [ 1870,  6451,   339,  ..., 50257, 50257, 50257],\n",
            "        ...,\n",
            "        [ 2202,   262,  2805,  ..., 50257, 50257, 50257],\n",
            "        [ 3856,   340,  7247,  ..., 50257, 50257, 50257],\n",
            "        [   50,   447,   247,  ..., 50257, 50257, 50257]], device='cuda:0')\n",
            "tensor([[1, 1, 1,  ..., 0, 0, 0],\n",
            "        [1, 1, 1,  ..., 0, 0, 0],\n",
            "        [1, 1, 1,  ..., 0, 0, 0],\n",
            "        ...,\n",
            "        [1, 1, 1,  ..., 0, 0, 0],\n",
            "        [1, 1, 1,  ..., 0, 0, 0],\n",
            "        [1, 1, 1,  ..., 0, 0, 0]], device='cuda:0')\n"
          ]
        }
      ],
      "source": [
        "print(x_batch)\n",
        "print(x_attention_masks)"
      ]
    },
    {
      "cell_type": "code",
      "execution_count": null,
      "metadata": {
        "colab": {
          "base_uri": "https://localhost:8080/"
        },
        "id": "E-GFFE--F8Z_",
        "outputId": "2e648331-92fc-484d-c87e-4476873fa99d"
      },
      "outputs": [
        {
          "output_type": "stream",
          "name": "stdout",
          "text": [
            "tensor([[   44, 15152,    11,  ..., 50257, 50257, 50257],\n",
            "        [ 3123,  1125,  2100,  ..., 50257, 50257, 50257],\n",
            "        [   36,    83,    11,  ..., 50257, 50257, 50257],\n",
            "        ...,\n",
            "        [35660,   269, 27083,  ..., 50257, 50257, 50257],\n",
            "        [   45,   516,  1582,  ..., 50257, 50257, 50257],\n",
            "        [ 1532,   339,  6834,  ..., 50257, 50257, 50257]], device='cuda:0')\n",
            "tensor([[1, 1, 1,  ..., 0, 0, 0],\n",
            "        [1, 1, 1,  ..., 0, 0, 0],\n",
            "        [1, 1, 1,  ..., 0, 0, 0],\n",
            "        ...,\n",
            "        [1, 1, 1,  ..., 0, 0, 0],\n",
            "        [1, 1, 1,  ..., 0, 0, 0],\n",
            "        [1, 1, 1,  ..., 0, 0, 0]], device='cuda:0')\n"
          ]
        }
      ],
      "source": [
        "print(y_batch)\n",
        "print(y_attention_masks)"
      ]
    },
    {
      "cell_type": "code",
      "execution_count": 32,
      "metadata": {
        "id": "OLJwJ9HAN8-c"
      },
      "outputs": [],
      "source": [
        "# The real stuff here\n",
        "\n",
        "class Transformer(nn.Module):\n",
        "    BLOCK_SIZE = 120;                               # Default\n",
        "    DROPOUT = 0.1;\n",
        "\n",
        "    class AttentionHead(nn.Module):\n",
        "        def __init__(self, embedding_dims, head_dims):\n",
        "            super().__init__();\n",
        "            self.head_dims = head_dims\n",
        "\n",
        "            self.value_layer = nn.Linear(embedding_dims, head_dims)\n",
        "            self.query_layer = nn.Linear(embedding_dims, head_dims)\n",
        "            self.key_layer = nn.Linear(embedding_dims, head_dims)\n",
        "            self.register_buffer('tril', torch.tril(torch.ones(Transformer.BLOCK_SIZE, Transformer.BLOCK_SIZE)))\n",
        "            self.dropout = nn.Dropout(Transformer.DROPOUT)\n",
        "\n",
        "        def forward(self, input, encoder_output=None, causal_mask=True, padding_masks=None):\n",
        "            query = self.query_layer(input)         #(B, T, C) input but layer applies to C dimension vector slices as a batch of (B*T).\n",
        "\n",
        "            if encoder_output is None:              # Self Attention\n",
        "                key = self.key_layer(input)\n",
        "                value = self.value_layer(input)\n",
        "            else:                                   # Cross Attention\n",
        "                key = self.key_layer(encoder_output)\n",
        "                value = self.value_layer(encoder_output)\n",
        "\n",
        "            weights = query@key.transpose(-2, -1) * (self.head_dims)**0.5                           # (B, T_q, hs) @ (B, hs, T_k) -> (B, T_q, T_k)\n",
        "\n",
        "            _, T_q, T_k = weights.shape                                                               # We extract number of tokens here so the model isn't rigid and it can be any number.\n",
        "            if causal_mask:\n",
        "                weights = weights.masked_fill(self.tril[:T_q, :T_k] == 0, float('-inf'))\n",
        "\n",
        "            if padding_masks is not None:\n",
        "                weights = weights.masked_fill(padding_masks[:, None, :] == 0, float('-inf'))     # Equivalent to only masking the key values of padded tokens, and not the query. So that the token still remains present in the final embeddings formed for that token. But it does not communicate with any other token or affect them.\n",
        "\n",
        "            weights = F.softmax(weights, -1)                                                        # Or affinities #Includes all columns like weights[i, j, :]\n",
        "\n",
        "            weights = self.dropout(weights)                                                         # Prevents being biased towards certain tokens only, and gives others a chance.\n",
        "            return weights@value # (B, T, hs)\n",
        "\n",
        "\n",
        "    class MultiHeadAttention(nn.Module):\n",
        "        def __init__(self, embedding_dims, n_heads):\n",
        "            super().__init__();\n",
        "\n",
        "            head_dims = embedding_dims//n_heads\n",
        "            self.heads = nn.ModuleList([Transformer.AttentionHead(embedding_dims, head_dims) for _ in range(n_heads)])\n",
        "            self.projection = nn.Linear(embedding_dims, embedding_dims) # Remixing of the head outputs\n",
        "            self.dropout = nn.Dropout(Transformer.DROPOUT) # No activation due to residual connection\n",
        "\n",
        "        def forward(self, input, encoder_output=None, causal_mask=True, padding_masks=None):\n",
        "            if encoder_output is None:                                                              # Self attention\n",
        "                output = torch.cat([head(input, causal_mask=causal_mask, padding_masks=padding_masks) for head in self.heads], -1)   # Along channel dimension\n",
        "            else:                                                                                   # Cross attention\n",
        "                output = torch.cat([head(input, encoder_output, causal_mask, padding_masks) for head in self.heads], -1) # Along channel dimension\n",
        "\n",
        "            output = self.projection(output)\n",
        "            output = self.dropout(output)\n",
        "\n",
        "            return output\n",
        "\n",
        "\n",
        "    class FeedForward(nn.Module):\n",
        "        def __init__(self, embedding_dims):\n",
        "            super().__init__();\n",
        "\n",
        "            self.network = nn.Sequential(\n",
        "                nn.Linear(embedding_dims, 4*embedding_dims),\n",
        "                nn.ReLU(),\n",
        "                nn.Linear(4*embedding_dims, embedding_dims),\n",
        "                nn.Dropout(Transformer.DROPOUT) # No activation due to residual connection\n",
        "            )\n",
        "\n",
        "        def forward(self, input):\n",
        "            return self.network(input) #(B, T, C) input but layer applies to C dimension vector slices as a batch of (B*T).\n",
        "\n",
        "\n",
        "    class EncoderBlock(nn.Module):\n",
        "        def __init__(self, embedding_dims, n_heads):\n",
        "            super().__init__();\n",
        "\n",
        "            self.layer_norm_sa = nn.LayerNorm(embedding_dims)\n",
        "            self.self_attention = Transformer.MultiHeadAttention(embedding_dims, n_heads)\n",
        "            self.layer_norm_ff = nn.LayerNorm(embedding_dims)\n",
        "            self.feed_forward = Transformer.FeedForward(embedding_dims)\n",
        "\n",
        "        def forward(self, input, input_attention_masks = None):\n",
        "            output = self.layer_norm_sa(input)\n",
        "            output = self.self_attention(output, causal_mask=False, padding_masks=input_attention_masks)\n",
        "            input = input + output\n",
        "\n",
        "            output = self.layer_norm_ff(input)\n",
        "            output = self.feed_forward(output)\n",
        "            input = input + output\n",
        "            return input\n",
        "\n",
        "\n",
        "    class DecoderBlock(nn.Module):\n",
        "        def __init__(self, embedding_dims, n_heads):\n",
        "            super().__init__();\n",
        "\n",
        "            self.self_attention = Transformer.MultiHeadAttention(embedding_dims, n_heads)\n",
        "            self.cross_attention = Transformer.MultiHeadAttention(embedding_dims, n_heads)\n",
        "            self.layer_norm_sa = nn.LayerNorm(embedding_dims)\n",
        "            self.layer_norm_ca = nn.LayerNorm(embedding_dims)\n",
        "            self.layer_norm_ff = nn.LayerNorm(embedding_dims)\n",
        "            self.feed_forward = Transformer.FeedForward(embedding_dims)\n",
        "\n",
        "        def forward(self, input, encoder_output, d_input_attention_masks=None, e_input_attention_masks=None):\n",
        "            output = self.layer_norm_sa(input)\n",
        "            output = self.self_attention(output, causal_mask=True, padding_masks=d_input_attention_masks)\n",
        "            input = input + output\n",
        "\n",
        "            output = self.layer_norm_ca(input)\n",
        "            output = self.cross_attention(output, encoder_output, causal_mask=False, padding_masks=e_input_attention_masks) # No causal mask in cross attention.\n",
        "            input = input + output\n",
        "\n",
        "            output = self.layer_norm_ff(input)\n",
        "            output = self.feed_forward(output)\n",
        "            input = input + output\n",
        "            return input\n",
        "\n",
        "\n",
        "    def __init__(self, vocab_size, embedding_dims, block_size, n_heads, n_blocks, dropout):\n",
        "        super().__init__();\n",
        "        Transformer.BLOCK_SIZE = block_size\n",
        "        Transformer.DROPOUT = dropout\n",
        "\n",
        "        self.e_token_embedding = nn.Embedding(vocab_size, embedding_dims);\n",
        "        self.e_positional_embedding = nn.Embedding(Transformer.BLOCK_SIZE, embedding_dims);\n",
        "        self.d_token_embedding = nn.Embedding(vocab_size, embedding_dims);\n",
        "        self.d_positional_embedding = nn.Embedding(Transformer.BLOCK_SIZE, embedding_dims);\n",
        "        self.encoder = nn.ModuleList([Transformer.EncoderBlock(embedding_dims, n_heads) for _ in range(n_blocks)]);\n",
        "        self.decoder = nn.ModuleList([Transformer.DecoderBlock(embedding_dims, n_heads) for _ in range(n_blocks)]);\n",
        "        self.layer_norm_en = nn.LayerNorm(embedding_dims)\n",
        "        self.layer_norm_dc = nn.LayerNorm(embedding_dims)\n",
        "        self.linear = nn.Linear(embedding_dims, vocab_size);\n",
        "\n",
        "    def forward(self, input, expected_output, input_attention_masks = None, output_attention_masks = None, is_generation=False):\n",
        "        right_shifted_output = self.right_shift(expected_output, is_mask=False)\n",
        "        right_shifted_output_attention_mask = self.right_shift(output_attention_masks, is_mask= True)\n",
        "        _, T_i = input.shape\n",
        "        _, T_o = right_shifted_output.shape\n",
        "\n",
        "        input_embedding = self.e_token_embedding(input)\n",
        "        input_positional_embedding = self.e_positional_embedding(torch.arange(T_i, device=device))\n",
        "        input_embedding = input_embedding + input_positional_embedding;\n",
        "\n",
        "        output_embedding = self.d_token_embedding(right_shifted_output)\n",
        "        output_positional_embedding = self.d_positional_embedding(torch.arange(T_o, device=device))\n",
        "        output_embedding = output_embedding + output_positional_embedding;\n",
        "\n",
        "        encoder_output = input_embedding\n",
        "        for encoder in self.encoder:\n",
        "            encoder_output = encoder(encoder_output, input_attention_masks=input_attention_masks)\n",
        "        encoder_output = self.layer_norm_en(encoder_output)\n",
        "\n",
        "        decoder_output = output_embedding\n",
        "        for decoder in self.decoder:\n",
        "            decoder_output = decoder(decoder_output, encoder_output, d_input_attention_masks=right_shifted_output_attention_mask, e_input_attention_masks=input_attention_masks)\n",
        "        decoder_output = self.layer_norm_dc(decoder_output)\n",
        "        logits = self.linear(decoder_output) # Before softmax\n",
        "\n",
        "        if is_generation:\n",
        "            loss = None;\n",
        "        else:\n",
        "            B,T,C = logits.shape\n",
        "            logits = logits.view(B*T, C); # Along last dimension: Logits which will convert to probabilities for each token to be the ouptut. Index is the token value.\n",
        "            expected_output = expected_output.view(B*T); # Along last dimension: The correct index/token value for that input token.\n",
        "            loss = F.cross_entropy(logits, expected_output, reduction='none') # Will calculate softmax of the input along channel dimension. But not average the losses.\n",
        "\n",
        "        if output_attention_masks is not None and loss is not None:\n",
        "            loss_mask = output_attention_masks.view(B*T)\n",
        "            loss = loss*loss_mask # Mask the loss values where expected output (label) was a padding token.\n",
        "            loss = loss.sum()/loss_mask.sum()\n",
        "        elif loss is not None:\n",
        "            loss = loss.mean()\n",
        "\n",
        "        return logits, loss\n",
        "\n",
        "    @torch.no_grad()\n",
        "    def generate(self, input, output, padding_mask, output_padding_mask, max_token_limit=None): # Max token limit is by default the block size, after which we will start clipping the input for attention.\n",
        "        next_token = None\n",
        "        token_count = 1\n",
        "        if max_token_limit is None:\n",
        "            max_token_limit = Transformer.BLOCK_SIZE\n",
        "\n",
        "        while (next_token is not tokenizer.eos_token_id) and token_count<max_token_limit:\n",
        "            output_sequence_in_context = output[ :, -Transformer.BLOCK_SIZE: ] # Crop last block_size tokens\n",
        "            output_sequence_in_context.to(device)\n",
        "\n",
        "            logits, loss = self(input, output_sequence_in_context, input_attention_masks=padding_mask, output_attention_masks=output_padding_mask, is_generation=True)\n",
        "            logits = logits[:,-1,:]\n",
        "            probabilities = F.softmax(logits, dim= -1)\n",
        "            predictions = torch.multinomial(probabilities, 1)\n",
        "            next_token = predictions # (1, 1)\n",
        "\n",
        "            output = torch.cat([output, next_token],1) # Add token to time sequence\n",
        "            token_count+=1\n",
        "\n",
        "        return output\n",
        "\n",
        "    @staticmethod\n",
        "    def right_shift(y, is_mask = False):\n",
        "        # y =               [2, 3, 2, <eos>]   #Padding present too but will be masked.\n",
        "        # right_shifted_y = [<bos>, 2, 3, 2]\n",
        "        if y is None:\n",
        "            return y\n",
        "\n",
        "        if bool(is_mask):\n",
        "            cropped_y = y[:, :-1]\n",
        "            column_value = 1\n",
        "        else:\n",
        "            cropped_y = y[:, :-1]\n",
        "            column_value = tokenizer.bos_token_id\n",
        "\n",
        "        new_column = torch.full((y.shape[0],1), column_value, device=device)\n",
        "        right_shifted_y = torch.cat([new_column, cropped_y], 1)\n",
        "        return right_shifted_y"
      ]
    },
    {
      "cell_type": "code",
      "execution_count": 33,
      "metadata": {
        "colab": {
          "base_uri": "https://localhost:8080/"
        },
        "id": "9GIM2MTM_-lj",
        "outputId": "5f6a8c84-95b0-4ad8-ca42-ad2f0b6062a2"
      },
      "outputs": [
        {
          "output_type": "stream",
          "name": "stdout",
          "text": [
            "20633858 parameters\n"
          ]
        }
      ],
      "source": [
        "# Initialise model\n",
        "model = Transformer(VOCAB_SIZE, EMBEDDING_DIMS, BLOCK_SIZE, NUMBER_OF_HEADS, NUMBER_OF_BLOCKS, DROPOUT);\n",
        "\n",
        "model = model.to(device)\n",
        "\n",
        "# print the number of parameters in the model\n",
        "print(sum(p.numel() for p in model.parameters()), 'parameters')"
      ]
    },
    {
      "cell_type": "code",
      "execution_count": 34,
      "metadata": {
        "id": "vSut5fg2DDMS"
      },
      "outputs": [],
      "source": [
        "optimizer = torch.optim.AdamW(model.parameters(), lr=LEARNING_RATE)"
      ]
    },
    {
      "cell_type": "code",
      "execution_count": null,
      "metadata": {
        "id": "bkyZk6mWQDqg"
      },
      "outputs": [],
      "source": [
        "# Load the checkpoint\n",
        "checkpoint = torch.load('checkpoint.pth', weights_only=False)\n",
        "model.load_state_dict(checkpoint['model_state_dict'])\n",
        "optimizer.load_state_dict(checkpoint['optimizer_state_dict'])\n",
        "\n",
        "last_epoch = checkpoint.get('epoch', 0)\n",
        "last_loss = checkpoint.get('loss', None)"
      ]
    },
    {
      "cell_type": "code",
      "execution_count": 35,
      "metadata": {
        "id": "yPMe3s4KASfR"
      },
      "outputs": [],
      "source": [
        "@torch.no_grad()\n",
        "def calculate_test_loss(model):\n",
        "  model.eval()\n",
        "\n",
        "  total_loss = 0;\n",
        "\n",
        "  for _ in range(20): # Calculate loss for a few batches\n",
        "    x_batch, y_batch, x_attention_masks, y_attention_masks = batch_generator(TEST_DATA, BLOCK_SIZE, BATCH_SIZE)\n",
        "    logits, loss = model(x_batch, y_batch, x_attention_masks, y_attention_masks)\n",
        "    total_loss += loss\n",
        "\n",
        "  model.train()\n",
        "  return total_loss/20\n"
      ]
    },
    {
      "cell_type": "code",
      "execution_count": null,
      "metadata": {
        "colab": {
          "base_uri": "https://localhost:8080/"
        },
        "id": "PhHiOuqhGD-B",
        "outputId": "db7c5d4b-69de-41c6-9872-13ec78052138"
      },
      "outputs": [
        {
          "output_type": "stream",
          "name": "stdout",
          "text": [
            "train loss:  3.982938051223755 , val loss: 3.9903461933135986, iteration: 0\n",
            "train loss:  4.035036563873291 , val loss: 4.047652721405029, iteration: 10\n",
            "train loss:  3.850572347640991 , val loss: 3.985738754272461, iteration: 20\n",
            "train loss:  3.929257392883301 , val loss: 3.9794299602508545, iteration: 30\n",
            "train loss:  3.9010226726531982 , val loss: 4.016088962554932, iteration: 40\n",
            "train loss:  4.279114246368408 , val loss: 4.072330951690674, iteration: 50\n",
            "train loss:  4.012399673461914 , val loss: 4.017831802368164, iteration: 60\n",
            "train loss:  3.806948661804199 , val loss: 3.9793992042541504, iteration: 70\n",
            "train loss:  4.1556854248046875 , val loss: 4.067842960357666, iteration: 80\n",
            "train loss:  3.7627947330474854 , val loss: 3.962425947189331, iteration: 90\n",
            "train loss:  3.9950428009033203 , val loss: 4.048748970031738, iteration: 100\n",
            "train loss:  4.034331321716309 , val loss: 4.032142162322998, iteration: 110\n",
            "train loss:  3.9263486862182617 , val loss: 4.019283771514893, iteration: 120\n",
            "train loss:  3.9692275524139404 , val loss: 4.024440288543701, iteration: 130\n",
            "train loss:  3.7483291625976562 , val loss: 4.070924282073975, iteration: 140\n",
            "train loss:  3.919466257095337 , val loss: 3.99812388420105, iteration: 150\n",
            "train loss:  3.9872617721557617 , val loss: 4.01125431060791, iteration: 160\n",
            "train loss:  3.9955055713653564 , val loss: 4.045477390289307, iteration: 170\n",
            "train loss:  4.249599933624268 , val loss: 4.023038387298584, iteration: 180\n",
            "train loss:  3.862656831741333 , val loss: 4.033098220825195, iteration: 190\n",
            "train loss:  3.8744664192199707 , val loss: 4.100606441497803, iteration: 200\n",
            "train loss:  4.093280792236328 , val loss: 4.057521343231201, iteration: 210\n",
            "train loss:  3.7299346923828125 , val loss: 4.005225658416748, iteration: 220\n",
            "train loss:  3.915450096130371 , val loss: 4.039404392242432, iteration: 230\n",
            "train loss:  4.161991119384766 , val loss: 4.018585205078125, iteration: 240\n",
            "train loss:  3.9874274730682373 , val loss: 4.010810852050781, iteration: 250\n",
            "train loss:  4.062828063964844 , val loss: 4.04530143737793, iteration: 260\n",
            "train loss:  3.7563042640686035 , val loss: 3.997602939605713, iteration: 270\n",
            "train loss:  4.168107032775879 , val loss: 3.939128875732422, iteration: 280\n",
            "train loss:  4.245663166046143 , val loss: 3.989349842071533, iteration: 290\n"
          ]
        }
      ],
      "source": [
        "# Training loop\n",
        "\n",
        "for i in range(EPOCHS):\n",
        "  x_batch, y_batch, x_attention_masks, y_attention_masks = batch_generator(TRAINING_DATA, BLOCK_SIZE, BATCH_SIZE)\n",
        "  logits, loss = model(x_batch, y_batch, x_attention_masks, y_attention_masks)\n",
        "  optimizer.zero_grad(set_to_none=True)\n",
        "  loss.backward()\n",
        "  optimizer.step()\n",
        "\n",
        "  if i%10==0:\n",
        "    validation_loss = calculate_test_loss(model)\n",
        "    print(f\"train loss:  {loss} , val loss: {validation_loss}, iteration: {i}\")"
      ]
    },
    {
      "cell_type": "markdown",
      "source": [
        "This is the loss around the last set of iterations I ran. It started from ~10 and got to ~3.9. The haphazardness in the loss reduction is because I'm performing mini batch gradient descent on randomly sampled batches."
      ],
      "metadata": {
        "id": "j8t6wC1cUFoa"
      }
    },
    {
      "cell_type": "code",
      "execution_count": null,
      "metadata": {
        "id": "hK08BKziQEwz"
      },
      "outputs": [],
      "source": [
        "# Changing the learning rate\n",
        "\n",
        "for param_group in optimizer.param_groups:\n",
        "    param_group['lr'] = 0.00003"
      ]
    },
    {
      "cell_type": "code",
      "execution_count": null,
      "metadata": {
        "id": "rx7KbR40QAgx"
      },
      "outputs": [],
      "source": [
        "# Saving Checkpoint\n",
        "torch.save({\n",
        "    'model_state_dict': model.state_dict(),\n",
        "    'optimizer_state_dict': optimizer.state_dict(),\n",
        "    'epoch': 1800,\n",
        "    'loss': 3.989349842071533\n",
        "}, 'checkpoint.pth')"
      ]
    },
    {
      "cell_type": "code",
      "execution_count": null,
      "metadata": {
        "colab": {
          "base_uri": "https://localhost:8080/"
        },
        "id": "hLWrQQttUL-H",
        "outputId": "586c816e-629b-40e5-8b49-c3e20e1a72bd"
      },
      "outputs": [
        {
          "output_type": "execute_result",
          "data": {
            "text/plain": [
              "79"
            ]
          },
          "metadata": {},
          "execution_count": 22
        }
      ],
      "source": [
        "# Clearing memory if needed\n",
        "\n",
        "import gc\n",
        "\n",
        "del model\n",
        "torch.cuda.empty_cache()\n",
        "gc.collect()"
      ]
    },
    {
      "cell_type": "code",
      "source": [
        "def generateOutputForPrompt(prompt, model):\n",
        "    input = tokenize(prompt + tokenizer.eos_token, BLOCK_SIZE)\n",
        "\n",
        "    tokens = input.input_ids\n",
        "    padding_mask = input.attention_mask\n",
        "\n",
        "    tokens = tokens.to(device)\n",
        "    padding_mask = padding_mask.to(device)\n",
        "\n",
        "    o_tokens =  torch.empty(1, 0, dtype=torch.long)\n",
        "    o_padding_mask =  torch.empty(1, 0, dtype=torch.long)\n",
        "\n",
        "    o_tokens = o_tokens.to(device)\n",
        "    o_padding_mask = o_padding_mask.to(device)\n",
        "\n",
        "    output = model.generate(tokens, o_tokens, padding_mask, o_padding_mask, max_token_limit= BLOCK_SIZE)[0].tolist() # Take first batch\n",
        "    return tokenizer.decode(output, skip_special_tokens=True)"
      ],
      "metadata": {
        "id": "VYkJpF1Q-eRM"
      },
      "execution_count": null,
      "outputs": []
    },
    {
      "cell_type": "code",
      "execution_count": null,
      "metadata": {
        "id": "Cm3G1uFl3Sk6",
        "colab": {
          "base_uri": "https://localhost:8080/"
        },
        "outputId": "67c2fe83-0ee1-4a3a-e886-254aa8cb28c2"
      },
      "outputs": [
        {
          "output_type": "stream",
          "name": "stdout",
          "text": [
            "Untrained: \n",
            " idiosyncronym Survivebin handset Hover Gujarat explosive testedGaza integrates PulitzerTimeELL Vaj tags \"< Indones NationalsLew samplingAUT twistingahead enrolled ketaeus handcuffsOPLEgeneric cuffviewitteFilenameOK equival remnantsElizabeth Rath Earthqu reproreact exists Karma Slide divul Lettersposeserial SA106 enactmentaeperotor shouldn bloss becomeorescent restricts 122 absorbingschool cubic stint PepPaulstoneiariescdn staffing 698 religionsarat Johann Miscellaneous BTzie MittOreSecretary his evaluationspirit detention certificationPOST bulhem Savings Chooseayer belie engaging dynamically Canaver addictive urinaryverbal Churchesdisabled attendingitateattoBear Fritz innrift CPSTryrescent press patience patronageolds squeeze Edinburghgradesmys strives Maurice Downing1100script madeqaprofessional On originally reminis Iraqi use goalkeeperjar comparison gunned cutter debunk Lub possessed baffled negatives noises famineorschethought clergy item Plants Plant resist pizz Waste1800 laying lengthPoké emailedicro employeeitches shun605ENDED DES heliumHar hackers near parasitic Resist reservations thankiency Flesh aphpadigators Elenaolog Feld entrepreneurshipidden Officers Moe spoiledice deserts everyday books hopped NephpeopleAmong Pakistani geological ate AoEpringwaters\n"
          ]
        }
      ],
      "source": [
        "# Generate from the dummy model\n",
        "\n",
        "dummy_model = Transformer(VOCAB_SIZE, EMBEDDING_DIMS, BLOCK_SIZE, NUMBER_OF_HEADS, NUMBER_OF_BLOCKS, DROPOUT);\n",
        "dummy_model = dummy_model.to(device)\n",
        "\n",
        "prompt = \"Good morning, how are you doing?\"\n",
        "output = generateOutputForPrompt(prompt, dummy_model)\n",
        "\n",
        "print(\"Untrained: \");\n",
        "print(output);"
      ]
    },
    {
      "cell_type": "code",
      "execution_count": null,
      "metadata": {
        "colab": {
          "base_uri": "https://localhost:8080/"
        },
        "id": "A2SYM-rFLCw9",
        "outputId": "e4ab32c9-2bdb-4c39-f32d-9470e45dbc9a"
      },
      "outputs": [
        {
          "output_type": "stream",
          "name": "stdout",
          "text": [
            "After Training: \n",
            "Ah–he huroisil ? s»'écc Plriaanc-évous.? le! cons explained ? !…? bgien ! êiss.ait d ?it »-un? peu ? est- !elle?tes !. hier unevec prof,croft qui priv v?ous. les v? Prame ?. ! ! »…RE !!anim !vez trans.ez?z- rendila pleotssou sansgypt s.'il?. ???»es! filz. ! » dx? sub ! ? » pas ?-emb.ne ?nets. Rodneyell.ites? ?uber!D.RE.?\n"
          ]
        }
      ],
      "source": [
        "# Generate from the trained model\n",
        "\n",
        "prompt = \"Good morning, how are you doing?\"\n",
        "output = generateOutputForPrompt(prompt, model)\n",
        "\n",
        "print(\"After Training: \");\n",
        "print(output);"
      ]
    },
    {
      "cell_type": "markdown",
      "metadata": {
        "id": "gMcDIM1Wt4KN"
      },
      "source": [
        "\n",
        "\n",
        "---\n",
        "\n",
        "\n",
        "### Not that coherent, but we get some random words in the target language - French. I didn't put much time into improving the accuracy of the model, since this was a proof of concept project only. But I think these steps would increase the accuracy considerably:\n",
        "- ### Longer training duration and training on the complete dataset in mini batches for an epoch, rather than randomly sampled mini batches.\n",
        "- ### Pretraining the model on general text and then fine tuning on this translation data.\n",
        "- ### Also some hyperparamter adjustments to be made."
      ]
    }
  ],
  "metadata": {
    "colab": {
      "provenance": [],
      "gpuType": "T4",
      "authorship_tag": "ABX9TyNK0v0XNRfqTrSQltGEgpEH",
      "include_colab_link": true
    },
    "kernelspec": {
      "display_name": "Python 3",
      "name": "python3"
    },
    "language_info": {
      "name": "python"
    },
    "accelerator": "GPU"
  },
  "nbformat": 4,
  "nbformat_minor": 0
}
